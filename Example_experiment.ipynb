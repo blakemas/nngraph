{
 "cells": [
  {
   "cell_type": "code",
   "execution_count": 1,
   "metadata": {
    "collapsed": true
   },
   "outputs": [],
   "source": [
    "%matplotlib inline \n",
    "import numpy as np\n",
    "import matplotlib.pyplot as plt \n",
    "from utils import *\n",
    "from anntri import * \n",
    "from data_gen import generate_spherical_clusters"
   ]
  },
  {
   "cell_type": "markdown",
   "metadata": {},
   "source": [
    "# Sample code for the algorithm ANNTri and baselines"
   ]
  },
  {
   "cell_type": "markdown",
   "metadata": {},
   "source": [
    "## Make some data"
   ]
  },
  {
   "cell_type": "markdown",
   "metadata": {},
   "source": [
    "Lets begin by making a sample dataset. For this example we will make a clustered data in 2 dimensions."
   ]
  },
  {
   "cell_type": "code",
   "execution_count": 4,
   "metadata": {
    "collapsed": true
   },
   "outputs": [],
   "source": [
    "np.random.seed(42)\n",
    "num_clusters = 5\n",
    "num_points_in_each = 5\n",
    "separation = 2      # clusters are separated by twice their diameter\n",
    "embedding = generate_spherical_clusters(num_clusters, num_points_in_each, separation_factor=separation)\n",
    "distance_matrix = compute_true_D(embedding)"
   ]
  },
  {
   "cell_type": "code",
   "execution_count": 3,
   "metadata": {},
   "outputs": [
    {
     "data": {
      "image/png": "[encoded data removed]",
      "text/plain": [
       "<matplotlib.figure.Figure at 0x1a15670128>"
      ]
     },
     "metadata": {},
     "output_type": "display_data"
    }
   ],
   "source": [
    "plt.scatter(embedding[:, 0], embedding[:, 1])\n",
    "plt.show()"
   ]
  },
  {
   "cell_type": "markdown",
   "metadata": {},
   "source": [
    "## Running each algorithm"
   ]
  },
  {
   "cell_type": "markdown",
   "metadata": {},
   "source": [
    "Now we will run each algorithm on this embedding. The embedding array is given to the algorithm for the purpose of generating noisy distances, but internal functions for learning nearest neighbors do not make use of this. The ANNTri class has flags for random sampline and ANN (not using the triangle inequality) as well. We begin by setting some parameters common to all algorithms. We will compute the error rate for top-k error, which indicates if the true nearest neighbor is in the closest k empirical means. For k=1, this checks if an algorithm has found the exact nearest neighbor"
   ]
  },
  {
   "cell_type": "markdown",
   "metadata": {},
   "source": [
    "### Problem parameters"
   ]
  },
  {
   "cell_type": "code",
   "execution_count": 5,
   "metadata": {
    "collapsed": true
   },
   "outputs": [],
   "source": [
    "dist_func = d_oracle     # distance function we will use. Defined in utils.\n",
    "epsilon, delta = 0.7, 0.1  # parameters for law of iterated logarithm confidence bounds\n",
    "sigma = 0.1              # noise level\n",
    "Ks = [1, 3, 5, 10]       # top k errors\n",
    "maxPulls = 10**5         # Stop sampling for efficiency"
   ]
  },
  {
   "cell_type": "markdown",
   "metadata": {},
   "source": [
    "### Random sampling"
   ]
  },
  {
   "cell_type": "markdown",
   "metadata": {},
   "source": [
    "We begin with random sampling. Random forms confidence bounds to know when to stop for the sake of time, but these bounds do not inform the sampling procedure. "
   ]
  },
  {
   "cell_type": "code",
   "execution_count": 6,
   "metadata": {},
   "outputs": [
    {
     "name": "stdout",
     "output_type": "stream",
     "text": [
      "Random: Found nn for arm 1, in 63654 pulls\n",
      "Random: Found nn for arm 2, in 1358 pulls\n",
      "Random: Found nn for arm 3, in 1046 pulls\n",
      "Random: Found nn for arm 4, in 880 pulls\n",
      "Random: Found nn for arm 5, in 6104 pulls\n",
      "Random: Found nn for arm 6, in 3546 pulls\n",
      "Random: Found nn for arm 7, in 2843 pulls\n",
      "Random: Found nn for arm 8, in 3506 pulls\n",
      "Random: Found nn for arm 9, in 3416 pulls\n",
      "Random: Found nn for arm 10, in 1528 pulls\n",
      "Random: Found nn for arm 11, in 809 pulls\n",
      "Random: Found nn for arm 12, in 439 pulls\n",
      "Random: Found nn for arm 13, in 1959 pulls\n",
      "Random: Found nn for arm 14, in 470 pulls\n",
      "Random: Found nn for arm 15, in 67 pulls\n",
      "Random: Found nn for arm 16, in 1109 pulls\n",
      "Random: Found nn for arm 17, in 587 pulls\n",
      "Random: Found nn for arm 18, in 2647 pulls\n",
      "Random: Found nn for arm 19, in 10758 pulls\n",
      "Random: Found nn for arm 20, in 2303 pulls\n",
      "Random: Found nn for arm 21, in 47305 pulls\n",
      "Random: Found nn for arm 22, in 2389 pulls\n",
      "Random: Found nn for arm 23, in 100000 pulls\n",
      "Random: Found nn for arm 24, in 69 pulls\n",
      "Random: Found nn for arm 25, in 12720 pulls\n"
     ]
    }
   ],
   "source": [
    "triangle = False   # form triangle inequality bounds\n",
    "rand_instance = ANNTri(dist_func, distance_matrix, epsilon, sigma, delta, triangle, \n",
    "                                                                            Ks, \n",
    "                                                                            maxPulls=10**5,\n",
    "                                                                            random_sample=True)\n",
    "rand_instance.run()"
   ]
  },
  {
   "cell_type": "markdown",
   "metadata": {},
   "source": [
    "### ANN - not using the triangle inequality."
   ]
  },
  {
   "cell_type": "markdown",
   "metadata": {},
   "source": [
    "Next we run ANN, which is equivalent to ANNTri except that it ignores triangle inequality based bounds and instead performs rounds of successive elimination and reuses samples between rounds."
   ]
  },
  {
   "cell_type": "code",
   "execution_count": 7,
   "metadata": {},
   "outputs": [
    {
     "name": "stdout",
     "output_type": "stream",
     "text": [
      "ANN: Found nn for arm 1 in 4369 pulls\n",
      "ANN: Found nn for arm 2 in 126 pulls\n",
      "ANN: Found nn for arm 3 in 45 pulls\n",
      "ANN: Found nn for arm 4 in 42 pulls\n",
      "ANN: Found nn for arm 5 in 528 pulls\n",
      "ANN: Found nn for arm 6 in 449 pulls\n",
      "ANN: Found nn for arm 7 in 343 pulls\n",
      "ANN: Found nn for arm 8 in 294 pulls\n",
      "ANN: Found nn for arm 9 in 369 pulls\n",
      "ANN: Found nn for arm 10 in 161 pulls\n",
      "ANN: Found nn for arm 11 in 118 pulls\n",
      "ANN: Found nn for arm 12 in 55 pulls\n",
      "ANN: Found nn for arm 13 in 257 pulls\n",
      "ANN: Found nn for arm 14 in 28 pulls\n",
      "ANN: Found nn for arm 15 in 11 pulls\n",
      "ANN: Found nn for arm 16 in 156 pulls\n",
      "ANN: Found nn for arm 17 in 52 pulls\n",
      "ANN: Found nn for arm 18 in 262 pulls\n",
      "ANN: Found nn for arm 19 in 708 pulls\n",
      "ANN: Found nn for arm 20 in 408 pulls\n",
      "ANN: Found nn for arm 21 in 5485 pulls\n",
      "ANN: Found nn for arm 22 in 161 pulls\n",
      "ANN: Found nn for arm 23 in 11471 pulls\n",
      "ANN: Found nn for arm 24 in 33 pulls\n",
      "ANN: Found nn for arm 25 in 2492 pulls\n"
     ]
    }
   ],
   "source": [
    "triangle = False   # form triangle inequality bounds\n",
    "ann_instance = ANNTri(dist_func, distance_matrix, epsilon, sigma, delta, triangle, \n",
    "                                                                            Ks, \n",
    "                                                                            maxPulls=10**5,\n",
    "                                                                            random_sample=False)\n",
    "ann_instance.run()"
   ]
  },
  {
   "cell_type": "markdown",
   "metadata": {},
   "source": [
    "### ANNTri"
   ]
  },
  {
   "cell_type": "markdown",
   "metadata": {},
   "source": [
    "Finally, we run ANNTri on the same dataset."
   ]
  },
  {
   "cell_type": "code",
   "execution_count": 8,
   "metadata": {},
   "outputs": [
    {
     "name": "stdout",
     "output_type": "stream",
     "text": [
      "ANNTri: Found nn for arm 1 in 5639 pulls\n",
      "ANNTri: Found nn for arm 2 in 118 pulls\n",
      "ANNTri: Found nn for arm 3 in 45 pulls\n",
      "ANNTri: Found nn for arm 4 in 34 pulls\n",
      "ANNTri: Found nn for arm 5 in 652 pulls\n",
      "ANNTri: Found nn for arm 6 in 592 pulls\n",
      "ANNTri: Found nn for arm 7 in 323 pulls\n",
      "ANNTri: Found nn for arm 8 in 297 pulls\n",
      "ANNTri: Found nn for arm 9 in 242 pulls\n",
      "ANNTri: Found nn for arm 10 in 106 pulls\n",
      "ANNTri: Found nn for arm 11 in 112 pulls\n",
      "ANNTri: Found nn for arm 12 in 40 pulls\n",
      "ANNTri: Found nn for arm 13 in 156 pulls\n",
      "ANNTri: Found nn for arm 14 in 29 pulls\n",
      "ANNTri: Found nn for arm 15 in 2 pulls\n",
      "ANNTri: Found nn for arm 16 in 110 pulls\n",
      "ANNTri: Found nn for arm 17 in 36 pulls\n",
      "ANNTri: Found nn for arm 18 in 303 pulls\n",
      "ANNTri: Found nn for arm 19 in 927 pulls\n",
      "ANNTri: Found nn for arm 20 in 361 pulls\n",
      "ANNTri: Found nn for arm 21 in 3392 pulls\n",
      "ANNTri: Found nn for arm 22 in 163 pulls\n",
      "ANNTri: Found nn for arm 23 in 11654 pulls\n",
      "ANNTri: Found nn for arm 24 in 32 pulls\n",
      "ANNTri: Found nn for arm 25 in 2399 pulls\n"
     ]
    }
   ],
   "source": [
    "triangle = True   # form triangle inequality bounds\n",
    "anntri_instance = ANNTri(dist_func, distance_matrix, epsilon, sigma, delta, triangle, \n",
    "                                                                                Ks, \n",
    "                                                                                maxPulls=10**5,\n",
    "                                                                                random_sample=False)\n",
    "anntri_instance.run()"
   ]
  },
  {
   "cell_type": "markdown",
   "metadata": {},
   "source": [
    "## Compare performance of each algorithm"
   ]
  },
  {
   "cell_type": "markdown",
   "metadata": {},
   "source": [
    "Finally, we compare the performance of each method. We plot the error rate in identifying exact nearest neighbors, and plot this as a function of the number of samples given to each point on a log scale. The curves are noisy since we have not averaged over multiple trials. This is intended to give a quick visual comparison and validation of their performance. To see more in depth results, please refer to our paper."
   ]
  },
  {
   "cell_type": "code",
   "execution_count": 9,
   "metadata": {},
   "outputs": [
    {
     "data": {
      "image/png": "[encoded data removed]",
      "text/plain": [
       "<matplotlib.figure.Figure at 0x1a157a7ba8>"
      ]
     },
     "metadata": {},
     "output_type": "display_data"
    }
   ],
   "source": [
    "plot_top_k(rand_instance, ann_instance, anntri_instance, Ks, k=1)\n"
   ]
  },
  {
   "cell_type": "code",
   "execution_count": null,
   "metadata": {
    "collapsed": true
   },
   "outputs": [],
   "source": []
  }
 ],
 "metadata": {
  "kernelspec": {
   "display_name": "Python [conda env:anaconda]",
   "language": "python",
   "name": "conda-env-anaconda-py"
  },
  "language_info": {
   "codemirror_mode": {
    "name": "ipython",
    "version": 3
   },
   "file_extension": ".py",
   "mimetype": "text/x-python",
   "name": "python",
   "nbconvert_exporter": "python",
   "pygments_lexer": "ipython3",
   "version": "3.5.4"
  }
 },
 "nbformat": 4,
 "nbformat_minor": 2
}
